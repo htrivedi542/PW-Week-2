{
 "cells": [
  {
   "cell_type": "code",
   "execution_count": null,
   "id": "4e00f8d4-861c-4b4c-adeb-3e3c5aeb82bd",
   "metadata": {},
   "outputs": [],
   "source": [
    "# In python one data type can be converted into another data type using conversion function\n",
    "# Int value can be converted into string, float,etc using str,float,etc\n",
    "\n"
   ]
  }
 ],
 "metadata": {
  "kernelspec": {
   "display_name": "Python 3 (ipykernel)",
   "language": "python",
   "name": "python3"
  },
  "language_info": {
   "codemirror_mode": {
    "name": "ipython",
    "version": 3
   },
   "file_extension": ".py",
   "mimetype": "text/x-python",
   "name": "python",
   "nbconvert_exporter": "python",
   "pygments_lexer": "ipython3",
   "version": "3.10.9"
  }
 },
 "nbformat": 4,
 "nbformat_minor": 5
}
