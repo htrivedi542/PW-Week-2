{
 "cells": [
  {
   "cell_type": "code",
   "execution_count": 7,
   "id": "a22a94dd-2bc4-461d-af78-bd1b18f3c371",
   "metadata": {},
   "outputs": [],
   "source": [
    "#In Python, variables are used to store and manipulate data. They act as containers that hold values of different types, such as numbers, strings, or objects. Variables allow you to store data and refer to it by a name.\n",
    "#The assingnment operator (=) is used to declare and assign values to variable\n",
    "# The Python is dynamically typed means we don't need to explicitly declare the type of a variable. The type is read based on the value assigned to it.\n",
    "# Example\n",
    "\n",
    "samplevariable = 60"
   ]
  },
  {
   "cell_type": "code",
   "execution_count": 8,
   "id": "15acd73e-e78b-40f4-aff0-34bbc8cecc1a",
   "metadata": {},
   "outputs": [
    {
     "data": {
      "text/plain": [
       "int"
      ]
     },
     "execution_count": 8,
     "metadata": {},
     "output_type": "execute_result"
    }
   ],
   "source": [
    "type(samplevariable)"
   ]
  }
 ],
 "metadata": {
  "kernelspec": {
   "display_name": "Python 3 (ipykernel)",
   "language": "python",
   "name": "python3"
  },
  "language_info": {
   "codemirror_mode": {
    "name": "ipython",
    "version": 3
   },
   "file_extension": ".py",
   "mimetype": "text/x-python",
   "name": "python",
   "nbconvert_exporter": "python",
   "pygments_lexer": "ipython3",
   "version": "3.10.9"
  }
 },
 "nbformat": 4,
 "nbformat_minor": 5
}
