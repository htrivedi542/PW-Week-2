{
 "cells": [
  {
   "cell_type": "code",
   "execution_count": null,
   "id": "839eb4ce-0397-47c7-a59d-af744ae83e34",
   "metadata": {},
   "outputs": [],
   "source": [
    "# First writ code on notepad ++ and save it as pythonscript.py extension\n",
    "# Then run that script using python command\n",
    "# Then open command line and type the word python followed by the path "
   ]
  }
 ],
 "metadata": {
  "kernelspec": {
   "display_name": "Python 3 (ipykernel)",
   "language": "python",
   "name": "python3"
  },
  "language_info": {
   "codemirror_mode": {
    "name": "ipython",
    "version": 3
   },
   "file_extension": ".py",
   "mimetype": "text/x-python",
   "name": "python",
   "nbconvert_exporter": "python",
   "pygments_lexer": "ipython3",
   "version": "3.10.9"
  }
 },
 "nbformat": 4,
 "nbformat_minor": 5
}
