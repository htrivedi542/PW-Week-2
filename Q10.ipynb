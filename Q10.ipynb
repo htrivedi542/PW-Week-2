{
 "cells": [
  {
   "cell_type": "code",
   "execution_count": 2,
   "id": "2f32e09a-96df-4472-b659-e99e5fcf2dba",
   "metadata": {},
   "outputs": [],
   "source": [
    "s= 'Hello, World!'"
   ]
  },
  {
   "cell_type": "code",
   "execution_count": 8,
   "id": "0100c1a0-2c23-404e-b58f-efa64e8bfe77",
   "metadata": {},
   "outputs": [
    {
     "data": {
      "text/plain": [
       "', World'"
      ]
     },
     "execution_count": 8,
     "metadata": {},
     "output_type": "execute_result"
    }
   ],
   "source": [
    "s[5:12]"
   ]
  },
  {
   "cell_type": "code",
   "execution_count": null,
   "id": "93ec149f-9bcc-416f-892d-099c54d135a8",
   "metadata": {},
   "outputs": [],
   "source": []
  }
 ],
 "metadata": {
  "kernelspec": {
   "display_name": "Python 3 (ipykernel)",
   "language": "python",
   "name": "python3"
  },
  "language_info": {
   "codemirror_mode": {
    "name": "ipython",
    "version": 3
   },
   "file_extension": ".py",
   "mimetype": "text/x-python",
   "name": "python",
   "nbconvert_exporter": "python",
   "pygments_lexer": "ipython3",
   "version": "3.10.9"
  }
 },
 "nbformat": 4,
 "nbformat_minor": 5
}
