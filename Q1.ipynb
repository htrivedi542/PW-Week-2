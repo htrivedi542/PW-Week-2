{
 "cells": [
  {
   "cell_type": "code",
   "execution_count": 3,
   "id": "ed5a70cf-9750-4e7b-94b8-39568217e2ec",
   "metadata": {},
   "outputs": [
    {
     "name": "stdout",
     "output_type": "stream",
     "text": [
      "harsh\n"
     ]
    }
   ],
   "source": [
    "# single line comment my code to print harsh\n",
    "print('harsh')"
   ]
  },
  {
   "cell_type": "code",
   "execution_count": 4,
   "id": "c461c7c5-8a04-47ca-9b1f-b75e55396789",
   "metadata": {},
   "outputs": [],
   "source": [
    "# Multi line comment\n",
    "# I have made a list\n",
    "#containing string, int, float values\n",
    "l=['harsh',54,35.89]"
   ]
  },
  {
   "cell_type": "code",
   "execution_count": 5,
   "id": "b47c8400-2d89-47ce-bcd2-6df90d22a896",
   "metadata": {},
   "outputs": [
    {
     "data": {
      "text/plain": [
       "list"
      ]
     },
     "execution_count": 5,
     "metadata": {},
     "output_type": "execute_result"
    }
   ],
   "source": [
    "type(l)"
   ]
  },
  {
   "cell_type": "code",
   "execution_count": null,
   "id": "25bc1a91-81f4-4cb7-82bb-ca241faf020b",
   "metadata": {},
   "outputs": [],
   "source": [
    "#comment using three \"\"\"\n",
    "I am mechanical engineer\n",
    "I am leaarning "
   ]
  }
 ],
 "metadata": {
  "kernelspec": {
   "display_name": "Python 3 (ipykernel)",
   "language": "python",
   "name": "python3"
  },
  "language_info": {
   "codemirror_mode": {
    "name": "ipython",
    "version": 3
   },
   "file_extension": ".py",
   "mimetype": "text/x-python",
   "name": "python",
   "nbconvert_exporter": "python",
   "pygments_lexer": "ipython3",
   "version": "3.10.9"
  }
 },
 "nbformat": 4,
 "nbformat_minor": 5
}
