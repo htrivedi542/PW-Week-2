{
 "cells": [
  {
   "cell_type": "code",
   "execution_count": 1,
   "id": "422dd6b4-ce89-4ffc-a65e-8d463cd9fa93",
   "metadata": {},
   "outputs": [],
   "source": [
    "# In mathematics, a complex number is a number that consists a real part and an imaginary part. It is written in the form a + bi, where a represents the real part, b represents the imaginary part\n",
    "# In python, the complex number is represented using + sign, the real part is represented as just int value and imaginary part has int value with j \n",
    "# Example, here 7 is real number and 8j is imaginary part\n",
    "\n",
    "var = 7 + 8j"
   ]
  },
  {
   "cell_type": "code",
   "execution_count": 2,
   "id": "8aac0c6e-d7b9-41e5-972a-fc1b4ac54ddd",
   "metadata": {},
   "outputs": [
    {
     "data": {
      "text/plain": [
       "complex"
      ]
     },
     "execution_count": 2,
     "metadata": {},
     "output_type": "execute_result"
    }
   ],
   "source": [
    "type(var)"
   ]
  }
 ],
 "metadata": {
  "kernelspec": {
   "display_name": "Python 3 (ipykernel)",
   "language": "python",
   "name": "python3"
  },
  "language_info": {
   "codemirror_mode": {
    "name": "ipython",
    "version": 3
   },
   "file_extension": ".py",
   "mimetype": "text/x-python",
   "name": "python",
   "nbconvert_exporter": "python",
   "pygments_lexer": "ipython3",
   "version": "3.10.9"
  }
 },
 "nbformat": 4,
 "nbformat_minor": 5
}
